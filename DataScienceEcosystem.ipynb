{
 "cells": [
  {
   "cell_type": "markdown",
   "id": "08fa1513-94c1-46c4-8736-2e899cfe7f2d",
   "metadata": {},
   "source": [
    "# Data Science Tools and Ecosystem "
   ]
  },
  {
   "cell_type": "markdown",
   "id": "48e76e3c-1871-443d-b80f-0359bc7e3223",
   "metadata": {},
   "source": [
    "In this notebook, Data science Tools and Ecosystem are summarized"
   ]
  },
  {
   "cell_type": "markdown",
   "id": "d32d9887-d879-43b8-923e-abd30c6d31ad",
   "metadata": {},
   "source": [
    "**Objectives** \n",
    "* List popular languages for Data Sciences \n",
    "* List popular libraries  for Data Sciences\n",
    "* Few Data Sciences Tools\n",
    "* Few examples of evaluation arithmetic expressions in Python "
   ]
  },
  {
   "cell_type": "markdown",
   "id": "42f8f2c5-01d4-4f88-a627-9186366fe2d0",
   "metadata": {
    "tags": []
   },
   "source": [
    "Some of popular language that Data Scientists use are :\n",
    "1. Python\n",
    "2. R\n",
    "3. Julia"
   ]
  },
  {
   "cell_type": "markdown",
   "id": "efcd2b65-0b89-4f79-a343-50345cc2df6c",
   "metadata": {
    "tags": []
   },
   "source": [
    " Some of thecommonly used libraries used by Data Scientists include\n",
    "1. matplotlib.pyplot\n",
    "2. Pandas\n",
    "3. Numpy"
   ]
  },
  {
   "cell_type": "markdown",
   "id": "f1b21585-7eff-48e7-bb2f-988895b6bca5",
   "metadata": {},
   "source": [
    "| Data Science Tools |\n",
    "|--------------------|\n",
    "|Jupyter|\n",
    "|RStudio|\n",
    "|Apache Spark|"
   ]
  },
  {
   "cell_type": "markdown",
   "id": "8757ecad-9c34-4f16-8e2d-3dd4d637299b",
   "metadata": {},
   "source": [
    "| Data Science Tools |\n",
    "|--------------------|\n",
    "|Jupyter|\n",
    "|RStudio|\n",
    "|Apache Spark|"
   ]
  },
  {
   "cell_type": "markdown",
   "id": "f5509db9-75b9-4585-bb53-fcbd7a9d1f18",
   "metadata": {},
   "source": [
    "### Below are a few examples of evaluating arithmetic expressions in python "
   ]
  },
  {
   "cell_type": "markdown",
   "id": "b7800efd-a76c-4089-8ad4-8b5d8923490c",
   "metadata": {},
   "source": [
    "### Below are a few examples of evaluating arithmetic expressions in python "
   ]
  },
  {
   "cell_type": "code",
   "execution_count": 3,
   "id": "b5b8e3d0-f89f-48e5-8967-5306f7b46669",
   "metadata": {
    "tags": []
   },
   "outputs": [
    {
     "data": {
      "text/plain": [
       "17"
      ]
     },
     "execution_count": 3,
     "metadata": {},
     "output_type": "execute_result"
    }
   ],
   "source": [
    "# This a simple aithmetic expression to pultiply thenadd integers\n",
    "(3*4)+5"
   ]
  },
  {
   "cell_type": "code",
   "execution_count": 5,
   "id": "bef8c54c-3ac0-4029-94c5-a525572195ca",
   "metadata": {
    "tags": []
   },
   "outputs": [
    {
     "data": {
      "text/plain": [
       "17"
      ]
     },
     "execution_count": 5,
     "metadata": {},
     "output_type": "execute_result"
    }
   ],
   "source": [
    "# This a simple aithmetic expression to pultiply thenadd integers\n",
    "(3*4)+5"
   ]
  },
  {
   "cell_type": "code",
   "execution_count": 4,
   "id": "a0b61f9e-affc-45e1-960e-8e1fb6ae2b3b",
   "metadata": {
    "tags": []
   },
   "outputs": [
    {
     "data": {
      "text/plain": [
       "3.3333333333333335"
      ]
     },
     "execution_count": 4,
     "metadata": {},
     "output_type": "execute_result"
    }
   ],
   "source": [
    "# This will convert 200 minutes to hours by diving by 60\n",
    "200/60"
   ]
  },
  {
   "cell_type": "code",
   "execution_count": 6,
   "id": "21a24e83-aa7f-4d4d-bd22-69acc039be8f",
   "metadata": {
    "tags": []
   },
   "outputs": [
    {
     "data": {
      "text/plain": [
       "3.3333333333333335"
      ]
     },
     "execution_count": 6,
     "metadata": {},
     "output_type": "execute_result"
    }
   ],
   "source": [
    "# This will convert 200 minutes to hours by diving by 60\n",
    "200/60"
   ]
  },
  {
   "cell_type": "markdown",
   "id": "4541a48a-3cd4-45cf-8b75-8e4617c703a1",
   "metadata": {},
   "source": [
    "## Author\n",
    "Nouira Marwa "
   ]
  },
  {
   "cell_type": "markdown",
   "id": "6644e55e-04eb-4804-bca7-88e6542db8aa",
   "metadata": {},
   "source": [
    "## Author\n",
    "Nouira Marwa "
   ]
  }
 ],
 "metadata": {
  "kernelspec": {
   "display_name": "Python",
   "language": "python",
   "name": "conda-env-python-py"
  },
  "language_info": {
   "codemirror_mode": {
    "name": "ipython",
    "version": 3
   },
   "file_extension": ".py",
   "mimetype": "text/x-python",
   "name": "python",
   "nbconvert_exporter": "python",
   "pygments_lexer": "ipython3",
   "version": "3.7.12"
  }
 },
 "nbformat": 4,
 "nbformat_minor": 5
}
